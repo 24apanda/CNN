{
  "nbformat": 4,
  "nbformat_minor": 0,
  "metadata": {
    "colab": {
      "name": "Linear_regression.ipynb",
      "provenance": [],
      "collapsed_sections": [],
      "include_colab_link": true
    },
    "kernelspec": {
      "name": "python3",
      "display_name": "Python 3"
    }
  },
  "cells": [
    {
      "cell_type": "markdown",
      "metadata": {
        "id": "view-in-github",
        "colab_type": "text"
      },
      "source": [
        "<a href=\"https://colab.research.google.com/github/24apanda/CNN/blob/master/Linear_regression.ipynb\" target=\"_parent\"><img src=\"https://colab.research.google.com/assets/colab-badge.svg\" alt=\"Open In Colab\"/></a>"
      ]
    },
    {
      "cell_type": "code",
      "metadata": {
        "id": "soVDSeF1tN5N",
        "colab_type": "code",
        "colab": {
          "base_uri": "https://localhost:8080/",
          "height": 51
        },
        "outputId": "6f2d7c37-623d-4f72-ab81-1ed0aecbbcb3"
      },
      "source": [
        "\n",
        "!pip3 install torch"
      ],
      "execution_count": 19,
      "outputs": [
        {
          "output_type": "stream",
          "text": [
            "Requirement already satisfied: torch in /usr/local/lib/python3.6/dist-packages (1.1.0)\n",
            "Requirement already satisfied: numpy in /usr/local/lib/python3.6/dist-packages (from torch) (1.16.5)\n"
          ],
          "name": "stdout"
        }
      ]
    },
    {
      "cell_type": "code",
      "metadata": {
        "id": "DJs3_ZRVwko9",
        "colab_type": "code",
        "colab": {}
      },
      "source": [
        "import torch\n",
        "import torch.nn as nn\n",
        "import matplotlib.pyplot as plt\n",
        "import numpy as np"
      ],
      "execution_count": 0,
      "outputs": []
    },
    {
      "cell_type": "code",
      "metadata": {
        "id": "lStBTSOTw9T2",
        "colab_type": "code",
        "colab": {
          "base_uri": "https://localhost:8080/",
          "height": 300
        },
        "outputId": "14824da1-70e8-43ad-aa4f-3319f4baf843"
      },
      "source": [
        "X = torch.randn(100, 1)*10\n",
        "y = X + 3*torch.randn(100, 1)\n",
        "plt.plot(X.numpy(), y.numpy(), 'o')\n",
        "plt.ylabel('y')\n",
        "plt.xlabel('x')"
      ],
      "execution_count": 21,
      "outputs": [
        {
          "output_type": "execute_result",
          "data": {
            "text/plain": [
              "Text(0.5, 0, 'x')"
            ]
          },
          "metadata": {
            "tags": []
          },
          "execution_count": 21
        },
        {
          "output_type": "display_data",
          "data": {
            "image/png": "[encoded data removed]",
            "text/plain": [
              "<Figure size 432x288 with 1 Axes>"
            ]
          },
          "metadata": {
            "tags": []
          }
        }
      ]
    },
    {
      "cell_type": "code",
      "metadata": {
        "id": "hHnYyJ89xC4G",
        "colab_type": "code",
        "colab": {}
      },
      "source": [
        "class LR(nn.Module):\n",
        "  def __init__(self,input_size,output_size):\n",
        "    super().__init__()\n",
        "    self.linear = nn.Linear(input_size,output_size)\n",
        "  def forward(self,x):\n",
        "    pred = self.linear(x)\n",
        "    return pred"
      ],
      "execution_count": 0,
      "outputs": []
    },
    {
      "cell_type": "code",
      "metadata": {
        "id": "2PwG4sqryaji",
        "colab_type": "code",
        "colab": {
          "base_uri": "https://localhost:8080/",
          "height": 68
        },
        "outputId": "deef30d4-ae62-49ef-cae3-c2e425d0e896"
      },
      "source": [
        "torch.manual_seed(1)\n",
        "model = LR(1, 1)\n",
        "print(model)"
      ],
      "execution_count": 23,
      "outputs": [
        {
          "output_type": "stream",
          "text": [
            "LR(\n",
            "  (linear): Linear(in_features=1, out_features=1, bias=True)\n",
            ")\n"
          ],
          "name": "stdout"
        }
      ]
    },
    {
      "cell_type": "code",
      "metadata": {
        "id": "F3GoLUd5yf1U",
        "colab_type": "code",
        "colab": {}
      },
      "source": [
        "[w,b]=model.parameters()"
      ],
      "execution_count": 0,
      "outputs": []
    },
    {
      "cell_type": "code",
      "metadata": {
        "id": "nY0oZc_zywae",
        "colab_type": "code",
        "colab": {
          "base_uri": "https://localhost:8080/",
          "height": 51
        },
        "outputId": "7089eaee-5422-40fc-97e3-3f6dcfd9ed53"
      },
      "source": [
        "w"
      ],
      "execution_count": 25,
      "outputs": [
        {
          "output_type": "execute_result",
          "data": {
            "text/plain": [
              "Parameter containing:\n",
              "tensor([[0.5153]], requires_grad=True)"
            ]
          },
          "metadata": {
            "tags": []
          },
          "execution_count": 25
        }
      ]
    },
    {
      "cell_type": "code",
      "metadata": {
        "id": "GB375chhy1AN",
        "colab_type": "code",
        "colab": {
          "base_uri": "https://localhost:8080/",
          "height": 51
        },
        "outputId": "9f9494da-4446-4e09-afd7-fabc32f1fb8c"
      },
      "source": [
        "b"
      ],
      "execution_count": 26,
      "outputs": [
        {
          "output_type": "execute_result",
          "data": {
            "text/plain": [
              "Parameter containing:\n",
              "tensor([-0.4414], requires_grad=True)"
            ]
          },
          "metadata": {
            "tags": []
          },
          "execution_count": 26
        }
      ]
    },
    {
      "cell_type": "code",
      "metadata": {
        "id": "2HIGdou2y2OK",
        "colab_type": "code",
        "colab": {}
      },
      "source": [
        "[w, b] = model.parameters()\n",
        "def get_params():\n",
        "  return (w[0][0].item(), b[0].item())"
      ],
      "execution_count": 0,
      "outputs": []
    },
    {
      "cell_type": "code",
      "metadata": {
        "id": "2WH2o54rzEYG",
        "colab_type": "code",
        "colab": {}
      },
      "source": [
        "def plot_fit(title):\n",
        "  plt.title = title\n",
        "  w1, b1 = get_params()\n",
        "  x1 = np.array([-30, 30])\n",
        "  y1 = w1*x1 + b1\n",
        "  plt.plot(x1, y1, 'r')\n",
        "  plt.scatter(X, y)\n",
        "  plt.show()"
      ],
      "execution_count": 0,
      "outputs": []
    },
    {
      "cell_type": "code",
      "metadata": {
        "id": "QYkqMSKnzIXQ",
        "colab_type": "code",
        "colab": {
          "base_uri": "https://localhost:8080/",
          "height": 269
        },
        "outputId": "36c94968-ea43-4325-c60d-619a205e033e"
      },
      "source": [
        "plot_fit('Initial Model')"
      ],
      "execution_count": 29,
      "outputs": [
        {
          "output_type": "display_data",
          "data": {
            "image/png": "[encoded data removed]",
            "text/plain": [
              "<Figure size 432x288 with 1 Axes>"
            ]
          },
          "metadata": {
            "tags": []
          }
        }
      ]
    },
    {
      "cell_type": "code",
      "metadata": {
        "id": "v9gEBxmwzUal",
        "colab_type": "code",
        "colab": {}
      },
      "source": [
        "criterion =  nn.MSELoss()\n",
        "optimizer = torch.optim.SGD(model.parameters(), lr = 0.01)"
      ],
      "execution_count": 0,
      "outputs": []
    },
    {
      "cell_type": "code",
      "metadata": {
        "id": "HVIaXlKqzwMH",
        "colab_type": "code",
        "colab": {
          "base_uri": "https://localhost:8080/",
          "height": 1000
        },
        "outputId": "e306646c-f186-4b4b-ba92-2d9c4eae593b"
      },
      "source": [
        "Epochs = 100\n",
        "losses = []\n",
        "for i in range(Epochs):\n",
        "  y_pred = model.forward(X)\n",
        "  loss = criterion(y_pred, y)\n",
        "  print(\"epoch:\", i, \"loss:\", loss.item())\n",
        "  \n",
        "  losses.append(loss)\n",
        "  optimizer.zero_grad()\n",
        "  loss.backward()\n",
        "  optimizer.step()"
      ],
      "execution_count": 31,
      "outputs": [
        {
          "output_type": "stream",
          "text": [
            "epoch: 0 loss: 36.44832992553711\n",
            "epoch: 1 loss: 43.94552230834961\n",
            "epoch: 2 loss: 53.461822509765625\n",
            "epoch: 3 loss: 65.54042053222656\n",
            "epoch: 4 loss: 80.8705062866211\n",
            "epoch: 5 loss: 100.32701110839844\n",
            "epoch: 6 loss: 125.01986694335938\n",
            "epoch: 7 loss: 156.3578643798828\n",
            "epoch: 8 loss: 196.1288604736328\n",
            "epoch: 9 loss: 246.60159301757812\n",
            "epoch: 10 loss: 310.6554260253906\n",
            "epoch: 11 loss: 391.94390869140625\n",
            "epoch: 12 loss: 495.1044616699219\n",
            "epoch: 13 loss: 626.0213623046875\n",
            "epoch: 14 loss: 792.162353515625\n",
            "epoch: 15 loss: 1003.0046997070312\n",
            "epoch: 16 loss: 1270.57373046875\n",
            "epoch: 17 loss: 1610.1314697265625\n",
            "epoch: 18 loss: 2041.04736328125\n",
            "epoch: 19 loss: 2587.89990234375\n",
            "epoch: 20 loss: 3281.885986328125\n",
            "epoch: 21 loss: 4162.58251953125\n",
            "epoch: 22 loss: 5280.2265625\n",
            "epoch: 23 loss: 6698.57080078125\n",
            "epoch: 24 loss: 8498.50390625\n",
            "epoch: 25 loss: 10782.7265625\n",
            "epoch: 26 loss: 13681.5029296875\n",
            "epoch: 27 loss: 17360.185546875\n",
            "epoch: 28 loss: 22028.6171875\n",
            "epoch: 29 loss: 27953.0390625\n",
            "epoch: 30 loss: 35471.41796875\n",
            "epoch: 31 loss: 45012.6171875\n",
            "epoch: 32 loss: 57120.8515625\n",
            "epoch: 33 loss: 72486.7578125\n",
            "epoch: 34 loss: 91986.7734375\n",
            "epoch: 35 loss: 116733.203125\n",
            "epoch: 36 loss: 148137.625\n",
            "epoch: 37 loss: 187991.4375\n",
            "epoch: 38 loss: 238567.65625\n",
            "epoch: 39 loss: 302751.0625\n",
            "epoch: 40 loss: 384203.03125\n",
            "epoch: 41 loss: 487569.4375\n",
            "epoch: 42 loss: 618745.875\n",
            "epoch: 43 loss: 785214.6875\n",
            "epoch: 44 loss: 996472.0\n",
            "epoch: 45 loss: 1264566.5\n",
            "epoch: 46 loss: 1604792.125\n",
            "epoch: 47 loss: 2036556.125\n",
            "epoch: 48 loss: 2584481.0\n",
            "epoch: 49 loss: 3279824.0\n",
            "epoch: 50 loss: 4162247.0\n",
            "epoch: 51 loss: 5282088.5\n",
            "epoch: 52 loss: 6703213.0\n",
            "epoch: 53 loss: 8506688.0\n",
            "epoch: 54 loss: 10795374.0\n",
            "epoch: 55 loss: 13699820.0\n",
            "epoch: 56 loss: 17385708.0\n",
            "epoch: 57 loss: 22063252.0\n",
            "epoch: 58 loss: 27999278.0\n",
            "epoch: 59 loss: 35532392.0\n",
            "epoch: 60 loss: 45092212.0\n",
            "epoch: 61 loss: 57224088.0\n",
            "epoch: 62 loss: 72619960.0\n",
            "epoch: 63 loss: 92158080.0\n",
            "epoch: 64 loss: 116953024.0\n",
            "epoch: 65 loss: 148418768.0\n",
            "epoch: 66 loss: 188350288.0\n",
            "epoch: 67 loss: 239025264.0\n",
            "epoch: 68 loss: 303334112.0\n",
            "epoch: 69 loss: 384944448.0\n",
            "epoch: 70 loss: 488512416.0\n",
            "epoch: 71 loss: 619944960.0\n",
            "epoch: 72 loss: 786738688.0\n",
            "epoch: 73 loss: 998407680.0\n",
            "epoch: 74 loss: 1267026432.0\n",
            "epoch: 75 loss: 1607916032.0\n",
            "epoch: 76 loss: 2040521088.0\n",
            "epoch: 77 loss: 2589515264.0\n",
            "epoch: 78 loss: 3286214656.0\n",
            "epoch: 79 loss: 4170360832.0\n",
            "epoch: 80 loss: 5292375040.0\n",
            "epoch: 81 loss: 6716270080.0\n",
            "epoch: 82 loss: 8523257344.0\n",
            "epoch: 83 loss: 10816403456.0\n",
            "epoch: 84 loss: 13726521344.0\n",
            "epoch: 85 loss: 17419587584.0\n",
            "epoch: 86 loss: 22106257408.0\n",
            "epoch: 87 loss: 28053868544.0\n",
            "epoch: 88 loss: 35601612800.0\n",
            "epoch: 89 loss: 45180104704.0\n",
            "epoch: 90 loss: 57335619584.0\n",
            "epoch: 91 loss: 72761573376.0\n",
            "epoch: 92 loss: 92337823744.0\n",
            "epoch: 93 loss: 117180907520.0\n",
            "epoch: 94 loss: 148707852288.0\n",
            "epoch: 95 loss: 188717187072.0\n",
            "epoch: 96 loss: 239490940928.0\n",
            "epoch: 97 loss: 303925100544.0\n",
            "epoch: 98 loss: 385695055872.0\n",
            "epoch: 99 loss: 489465151488.0\n"
          ],
          "name": "stdout"
        }
      ]
    },
    {
      "cell_type": "code",
      "metadata": {
        "id": "AsucZkS-z3qE",
        "colab_type": "code",
        "colab": {
          "base_uri": "https://localhost:8080/",
          "height": 307
        },
        "outputId": "b8d88372-8d2e-48d1-c8d7-5bfee6e8ce00"
      },
      "source": [
        "plt.plot(range(Epochs), losses)\n",
        "plt.ylabel('Loss')\n",
        "plt.xlabel('epoch')"
      ],
      "execution_count": 32,
      "outputs": [
        {
          "output_type": "execute_result",
          "data": {
            "text/plain": [
              "Text(0.5, 0, 'epoch')"
            ]
          },
          "metadata": {
            "tags": []
          },
          "execution_count": 32
        },
        {
          "output_type": "display_data",
          "data": {
            "image/png": "[encoded data removed]",
            "text/plain": [
              "<Figure size 432x288 with 1 Axes>"
            ]
          },
          "metadata": {
            "tags": []
          }
        }
      ]
    },
    {
      "cell_type": "code",
      "metadata": {
        "id": "APyiFiMK0CWm",
        "colab_type": "code",
        "colab": {
          "base_uri": "https://localhost:8080/",
          "height": 269
        },
        "outputId": "93ee88b7-80d2-42ba-c11c-8d6a5f7677f2"
      },
      "source": [
        "plot_fit(\"Trained Model\")"
      ],
      "execution_count": 33,
      "outputs": [
        {
          "output_type": "display_data",
          "data": {
            "image/png": "[encoded data removed]",
            "text/plain": [
              "<Figure size 432x288 with 1 Axes>"
            ]
          },
          "metadata": {
            "tags": []
          }
        }
      ]
    },
    {
      "cell_type": "code",
      "metadata": {
        "id": "oKgCfHs90QKj",
        "colab_type": "code",
        "colab": {}
      },
      "source": [
        ""
      ],
      "execution_count": 0,
      "outputs": []
    }
  ]
}